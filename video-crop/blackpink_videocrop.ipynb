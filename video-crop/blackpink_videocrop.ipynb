{
 "cells": [
  {
   "cell_type": "markdown",
   "metadata": {},
   "source": [
    "# Crop"
   ]
  },
  {
   "cell_type": "code",
   "execution_count": 50,
   "metadata": {},
   "outputs": [],
   "source": [
    "import cv2\n",
    "import pandas as pd\n",
    "import time\n",
    "import numpy as np\n",
    "\n",
    "     \n",
    "def VideoCrop():\n",
    "    input_video = cv2.VideoCapture(\"input video path\")\n",
    "    df = pd.read_csv(\"crop csv path\")\n",
    "    \n",
    "    fps = input_video.get(cv2.CAP_PROP_FPS)\n",
    "    width = input_video.get(cv2.CAP_PROP_FRAME_WIDTH)\n",
    "    height = input_video.get(cv2.CAP_PROP_FRAME_HEIGHT)\n",
    "    final_w = 200    # output video width\n",
    "    final_h = 630    # output video height\n",
    "\n",
    "    fourcc = cv2.VideoWriter_fourcc(*'DIVX')\n",
    "    output_video = cv2.VideoWriter(\"output.mp4\", fourcc, fps, (final_w,final_h))\n",
    " \n",
    "    success, frame = input_video.read()\n",
    "    count = 0\n",
    "    while success:\n",
    "        mem = df.iloc[count]\n",
    "        x = int(np.ceil(mem[2] * width)) - 80\n",
    "        y = int(np.ceil(mem[3] * height)) - 70\n",
    "        if x < 0:\n",
    "            x = 0\n",
    "        if y < 0:\n",
    "            y = 0\n",
    "        if x + final_w > width:\n",
    "            x = width - 1 - final_w    # frame 밖으로 나갈 시 오류 방지\n",
    "        if y + final_h >= height:\n",
    "            y = height - 1 - final_h    # frame 밖으로 나갈 시 오류 방지\n",
    "            \n",
    "        crop = frame[y:y+final_h, x:x+final_w]\n",
    "        output_video.write(crop)\n",
    "        \n",
    "        success, frame = input_video.read()\n",
    "        count += 1\n",
    "        \n",
    "    input_video.release()\n",
    "    output_video.release()\n",
    "    \n",
    "if __name__==\"__VideoCrop__\":\n",
    "    VideoCrop()"
   ]
  }
 ],
 "metadata": {
  "kernelspec": {
   "display_name": "Python 3",
   "language": "python",
   "name": "python3"
  },
  "language_info": {
   "codemirror_mode": {
    "name": "ipython",
    "version": 3
   },
   "file_extension": ".py",
   "mimetype": "text/x-python",
   "name": "python",
   "nbconvert_exporter": "python",
   "pygments_lexer": "ipython3",
   "version": "3.9.2"
  }
 },
 "nbformat": 4,
 "nbformat_minor": 4
}
